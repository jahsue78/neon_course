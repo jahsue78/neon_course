{
 "cells": [
  {
   "cell_type": "markdown",
   "metadata": {
    "deletable": true,
    "editable": true
   },
   "source": [
    "# Visualization Callback Example\n",
    "\n",
    "\n",
    "## Preamble\n",
    "Before we dive into creating a callback, we'll need a simple model to work with.  This tutorial uses a model similar to the one in neon's `examples/mnist_mlp.py`, but the same callback should apply to any model."
   ]
  },
  {
   "cell_type": "code",
   "execution_count": 1,
   "metadata": {
    "collapsed": false,
    "deletable": true,
    "editable": true
   },
   "outputs": [],
   "source": [
    "from neon.backends import gen_backend\n",
    "from neon.initializers import Gaussian\n",
    "from neon.layers import Affine\n",
    "from neon.data import MNIST\n",
    "from neon.transforms import Rectlin, Softmax\n",
    "from neon.models import Model\n",
    "from neon.layers import GeneralizedCost\n",
    "from neon.transforms import CrossEntropyMulti\n",
    "from neon.optimizers import GradientDescentMomentum\n",
    "\n",
    "be = gen_backend(batch_size=128)\n",
    "mnist = MNIST(path='/notebook/data/')\n",
    "train_set = mnist.train_iter\n",
    "test_set = mnist.valid_iter\n",
    "\n",
    "init_norm = Gaussian(loc=0.0, scale=0.01)\n",
    "\n",
    "layers = []\n",
    "layers.append(Affine(nout=100, init=init_norm, activation=Rectlin()))\n",
    "layers.append(Affine(nout=10, init=init_norm,\n",
    "                     activation=Softmax()))\n",
    "\n",
    "mlp = Model(layers=layers)\n",
    "cost = GeneralizedCost(costfunc=CrossEntropyMulti())\n",
    "optimizer = GradientDescentMomentum(0.1, momentum_coef=0.9)"
   ]
  },
  {
   "cell_type": "markdown",
   "metadata": {
    "deletable": true,
    "editable": true
   },
   "source": [
    "# Dependencies\n",
    "\n",
    "This callback makes use of new features in bokeh 0.11, which needs to be installed before running the callback.\n",
    "\n",
    "We can install the pip package using the notebook terminal or from inside the notebook itself.  \n",
    "\n",
    "After installation, execute 'Kernel-> restart and run all' to reload the kernel with the newly installed package version."
   ]
  },
  {
   "cell_type": "code",
   "execution_count": 2,
   "metadata": {
    "collapsed": false,
    "deletable": true,
    "editable": true
   },
   "outputs": [
    {
     "data": {
      "text/plain": [
       "'Requirement already satisfied (use --upgrade to upgrade): bokeh==0.11 in /usr/local/lib/python2.7/dist-packages\\nRequirement already satisfied (use --upgrade to upgrade): six>=1.5.2 in /usr/local/lib/python2.7/dist-packages (from bokeh==0.11)\\nRequirement already satisfied (use --upgrade to upgrade): requests>=1.2.3 in /usr/lib/python2.7/dist-packages (from bokeh==0.11)\\nRequirement already satisfied (use --upgrade to upgrade): PyYAML>=3.10 in /usr/local/lib/python2.7/dist-packages (from bokeh==0.11)\\nRequirement already satisfied (use --upgrade to upgrade): python-dateutil>=2.1 in /usr/local/lib/python2.7/dist-packages (from bokeh==0.11)\\nRequirement already satisfied (use --upgrade to upgrade): Jinja2>=2.7 in /usr/local/lib/python2.7/dist-packages (from bokeh==0.11)\\nRequirement already satisfied (use --upgrade to upgrade): numpy>=1.7.1 in /usr/local/lib/python2.7/dist-packages/numpy-1.11.1-py2.7-linux-x86_64.egg (from bokeh==0.11)\\nRequirement already satisfied (use --upgrade to upgrade): tornado>=4.3 in /usr/local/lib/python2.7/dist-packages (from bokeh==0.11)\\nRequirement already satisfied (use --upgrade to upgrade): futures>=3.0.3 in /usr/local/lib/python2.7/dist-packages (from bokeh==0.11)\\nRequirement already satisfied (use --upgrade to upgrade): backports.ssl_match_hostname in /usr/local/lib/python2.7/dist-packages (from tornado>=4.3->bokeh==0.11)\\nRequirement already satisfied (use --upgrade to upgrade): singledispatch in /usr/local/lib/python2.7/dist-packages (from tornado>=4.3->bokeh==0.11)\\nRequirement already satisfied (use --upgrade to upgrade): certifi in /usr/local/lib/python2.7/dist-packages (from tornado>=4.3->bokeh==0.11)\\nRequirement already satisfied (use --upgrade to upgrade): backports_abc>=0.4 in /usr/local/lib/python2.7/dist-packages (from tornado>=4.3->bokeh==0.11)\\nCleaning up...\\n'"
      ]
     },
     "execution_count": 2,
     "metadata": {},
     "output_type": "execute_result"
    }
   ],
   "source": [
    "import subprocess\n",
    "subprocess.check_output(['pip', 'install', 'bokeh==0.11'])"
   ]
  },
  {
   "cell_type": "markdown",
   "metadata": {
    "deletable": true,
    "editable": true
   },
   "source": [
    "## Callbacks\n",
    "Neon provides an API for calling operations during the model fit. The progress bars displayed during training are an example of a callback, and we'll go through the process of adding a new callback that visualizes cost graphically instead of printing to screen.\n",
    "\n",
    "To make a new callback, subclass from `Callback`, and implement the desired callback methods.  \n",
    "\n",
    "Each of the callback functions have access to `callback_data` and `model` objects.  `callback_data` is an H5 file that is saved when supplying the `-o` flag to neon, and callbacks should store any computed data into `callback_data`.  Visualization callbacks can read already computed data such as training or validation cost from `callback_data`.\n",
    "\n",
    "This callback implements the subset of the available callback functions that it needs:\n",
    "http://neon.nervanasys.com/docs/latest/callbacks.html#creating-callbacks\n",
    "\n"
   ]
  },
  {
   "cell_type": "code",
   "execution_count": 3,
   "metadata": {
    "collapsed": false,
    "deletable": true,
    "editable": true
   },
   "outputs": [],
   "source": [
    "from neon.callbacks.callbacks import Callbacks, Callback\n",
    "from bokeh.plotting import output_notebook, figure, ColumnDataSource, show\n",
    "from bokeh.io import push_notebook\n",
    "from timeit import default_timer\n",
    "\n",
    "class CostVisCallback(Callback):\n",
    "    \"\"\"\n",
    "    Callback providing a live updating console based progress bar.\n",
    "    \"\"\"\n",
    "\n",
    "    def __init__(self, epoch_freq=1,\n",
    "                 minibatch_freq=1, update_thresh_s=0.65):\n",
    "        super(CostVisCallback, self).__init__(epoch_freq=epoch_freq,\n",
    "                                                  minibatch_freq=minibatch_freq)\n",
    "        self.update_thresh_s = update_thresh_s\n",
    "        \n",
    "        output_notebook()\n",
    "        \n",
    "        self.fig = figure(name=\"cost\", title=\"Cost\", x_axis_label=\"Epoch\", plot_width=900)\n",
    "        self.train_source = ColumnDataSource(data=dict(x=[], y0=[]))\n",
    "        self.train_cost = self.fig.line(x=[], y=[], source=self.train_source)\n",
    "        \n",
    "        self.val_source = ColumnDataSource(data=dict(x=[], y0=[]))\n",
    "        self.val_cost = self.fig.line(x=[], y=[], source=self.val_source, color='red')\n",
    "        \n",
    "\n",
    "    def on_train_begin(self, callback_data, model, epochs):\n",
    "        \"\"\"\n",
    "        A good place for one-time startup operations, such as displaying the figure.\n",
    "        \"\"\"\n",
    "        show(self.fig)\n",
    "\n",
    "    def on_epoch_begin(self, callback_data, model, epoch):\n",
    "        \"\"\"\n",
    "        Since the number of minibatches per epoch is not constant, calculate it here.\n",
    "        \"\"\"\n",
    "        self.start_epoch = self.last_update = default_timer()\n",
    "        self.nbatches = model.nbatches\n",
    "\n",
    "    def on_minibatch_end(self, callback_data, model, epoch, minibatch):\n",
    "        \"\"\"\n",
    "        Read the training cost already computed by the TrainCostCallback out of 'callback_data', and display it.\n",
    "        \"\"\"\n",
    "        now = default_timer()\n",
    "        mb_complete = minibatch + 1\n",
    "        \n",
    "        mbstart = callback_data['time_markers/minibatch'][epoch-1] if epoch > 0 else 0\n",
    "        train_cost = callback_data['cost/train'][mbstart + minibatch]\n",
    "\n",
    "        mb_epoch_scale = epoch + minibatch / float(self.nbatches)\n",
    "        self.train_source.data['x'].append(mb_epoch_scale)\n",
    "        self.train_source.data['y'].append(train_cost)\n",
    "            \n",
    "        if (now - self.last_update > self.update_thresh_s or mb_complete == self.nbatches):\n",
    "            self.last_update = now\n",
    "\n",
    "            push_notebook()\n",
    "\n",
    "    def on_epoch_end(self, callback_data, model, epoch):\n",
    "        \"\"\"\n",
    "        If per-epoch validation cost is being computed by the LossCallback, plot that too. \n",
    "        \"\"\"\n",
    "        _eil = self._get_cached_epoch_loss(callback_data, model, epoch, 'loss')\n",
    "        if _eil:\n",
    "            self.val_source.data['x'].append(1 + epoch)\n",
    "            self.val_source.data['y'].append(_eil['cost'])\n",
    "            push_notebook()\n"
   ]
  },
  {
   "cell_type": "markdown",
   "metadata": {
    "deletable": true,
    "editable": true
   },
   "source": [
    "## Running our callback\n",
    "\n",
    "We'll create all of the standard neon callbacks, and then add ours at the end.  "
   ]
  },
  {
   "cell_type": "code",
   "execution_count": 4,
   "metadata": {
    "collapsed": false,
    "deletable": true,
    "editable": true
   },
   "outputs": [
    {
     "data": {
      "text/html": [
       "\n",
       "\n",
       "    <script type=\"text/javascript\">\n",
       "      \n",
       "      (function(global) {\n",
       "        function now() {\n",
       "          return new Date();\n",
       "        }\n",
       "      \n",
       "        if (typeof (window._bokeh_onload_callbacks) === \"undefined\") {\n",
       "          window._bokeh_onload_callbacks = [];\n",
       "        }\n",
       "      \n",
       "        function run_callbacks() {\n",
       "          window._bokeh_onload_callbacks.forEach(function(callback) { callback() });\n",
       "          delete window._bokeh_onload_callbacks\n",
       "          console.info(\"Bokeh: all callbacks have finished\");\n",
       "        }\n",
       "      \n",
       "        function load_libs(js_urls, callback) {\n",
       "          window._bokeh_onload_callbacks.push(callback);\n",
       "          if (window._bokeh_is_loading > 0) {\n",
       "            console.log(\"Bokeh: BokehJS is being loaded, scheduling callback at\", now());\n",
       "            return null;\n",
       "          }\n",
       "          if (js_urls == null || js_urls.length === 0) {\n",
       "            run_callbacks();\n",
       "            return null;\n",
       "          }\n",
       "          console.log(\"Bokeh: BokehJS not loaded, scheduling load and callback at\", now());\n",
       "          window._bokeh_is_loading = js_urls.length;\n",
       "          for (var i = 0; i < js_urls.length; i++) {\n",
       "            var url = js_urls[i];\n",
       "            var s = document.createElement('script');\n",
       "            s.src = url;\n",
       "            s.async = false;\n",
       "            s.onreadystatechange = s.onload = function() {\n",
       "              window._bokeh_is_loading--;\n",
       "              if (window._bokeh_is_loading === 0) {\n",
       "                console.log(\"Bokeh: all BokehJS libraries loaded\");\n",
       "                run_callbacks()\n",
       "              }\n",
       "            };\n",
       "            s.onerror = function() {\n",
       "              console.warn(\"failed to load library \" + url);\n",
       "            };\n",
       "            console.log(\"Bokeh: injecting script tag for BokehJS library: \", url);\n",
       "            document.getElementsByTagName(\"head\")[0].appendChild(s);\n",
       "          }\n",
       "        };var js_urls = ['https://cdn.pydata.org/bokeh/release/bokeh-0.11.0.min.js', 'https://cdn.pydata.org/bokeh/release/bokeh-widgets-0.11.0.min.js', 'https://cdn.pydata.org/bokeh/release/bokeh-compiler-0.11.0.min.js'];\n",
       "      \n",
       "        var inline_js = [\n",
       "          function(Bokeh) {\n",
       "            Bokeh.set_log_level(\"info\");\n",
       "          },\n",
       "          function(Bokeh) {\n",
       "            console.log(\"Bokeh: injecting CSS: https://cdn.pydata.org/bokeh/release/bokeh-0.11.0.min.css\");\n",
       "            Bokeh.embed.inject_css(\"https://cdn.pydata.org/bokeh/release/bokeh-0.11.0.min.css\");\n",
       "            console.log(\"Bokeh: injecting CSS: https://cdn.pydata.org/bokeh/release/bokeh-widgets-0.11.0.min.css\");\n",
       "            Bokeh.embed.inject_css(\"https://cdn.pydata.org/bokeh/release/bokeh-widgets-0.11.0.min.css\");\n",
       "          }\n",
       "        ];\n",
       "      \n",
       "        function run_inline_js() {\n",
       "          for (var i = 0; i < inline_js.length; i++) {\n",
       "            inline_js[i](window.Bokeh);\n",
       "          }\n",
       "        }\n",
       "      \n",
       "        if (window._bokeh_is_loading === 0) {\n",
       "          console.log(\"Bokeh: BokehJS loaded, going straight to plotting\");\n",
       "          run_inline_js();\n",
       "        } else {\n",
       "          load_libs(js_urls, function() {\n",
       "            console.log(\"Bokeh: BokehJS plotting callback run at\", now());\n",
       "            run_inline_js();\n",
       "          });\n",
       "        }\n",
       "      }(this));\n",
       "    </script>\n",
       "    <div>\n",
       "        <a href=\"http://bokeh.pydata.org\" target=\"_blank\" class=\"bk-logo bk-logo-small bk-logo-notebook\"></a>\n",
       "        <span>BokehJS successfully loaded.</span>\n",
       "    </div>"
      ]
     },
     "metadata": {},
     "output_type": "display_data"
    },
    {
     "data": {
      "text/html": [
       "\n",
       "\n",
       "    <div class=\"plotdiv\" id=\"d516ff97-08b7-4ed2-962e-88abfa10c5f1\"></div>\n",
       "<script type=\"text/javascript\">\n",
       "  \n",
       "  (function(global) {\n",
       "    function now() {\n",
       "      return new Date();\n",
       "    }\n",
       "  \n",
       "    if (typeof (window._bokeh_onload_callbacks) === \"undefined\") {\n",
       "      window._bokeh_onload_callbacks = [];\n",
       "    }\n",
       "  \n",
       "    function run_callbacks() {\n",
       "      window._bokeh_onload_callbacks.forEach(function(callback) { callback() });\n",
       "      delete window._bokeh_onload_callbacks\n",
       "      console.info(\"Bokeh: all callbacks have finished\");\n",
       "    }\n",
       "  \n",
       "    function load_libs(js_urls, callback) {\n",
       "      window._bokeh_onload_callbacks.push(callback);\n",
       "      if (window._bokeh_is_loading > 0) {\n",
       "        console.log(\"Bokeh: BokehJS is being loaded, scheduling callback at\", now());\n",
       "        return null;\n",
       "      }\n",
       "      if (js_urls == null || js_urls.length === 0) {\n",
       "        run_callbacks();\n",
       "        return null;\n",
       "      }\n",
       "      console.log(\"Bokeh: BokehJS not loaded, scheduling load and callback at\", now());\n",
       "      window._bokeh_is_loading = js_urls.length;\n",
       "      for (var i = 0; i < js_urls.length; i++) {\n",
       "        var url = js_urls[i];\n",
       "        var s = document.createElement('script');\n",
       "        s.src = url;\n",
       "        s.async = false;\n",
       "        s.onreadystatechange = s.onload = function() {\n",
       "          window._bokeh_is_loading--;\n",
       "          if (window._bokeh_is_loading === 0) {\n",
       "            console.log(\"Bokeh: all BokehJS libraries loaded\");\n",
       "            run_callbacks()\n",
       "          }\n",
       "        };\n",
       "        s.onerror = function() {\n",
       "          console.warn(\"failed to load library \" + url);\n",
       "        };\n",
       "        console.log(\"Bokeh: injecting script tag for BokehJS library: \", url);\n",
       "        document.getElementsByTagName(\"head\")[0].appendChild(s);\n",
       "      }\n",
       "    };var element = document.getElementById(\"d516ff97-08b7-4ed2-962e-88abfa10c5f1\");\n",
       "    if (element == null) {\n",
       "      console.log(\"Bokeh: ERROR: autoload.js configured with elementid 'd516ff97-08b7-4ed2-962e-88abfa10c5f1' but no matching script tag was found. \")\n",
       "      return false;\n",
       "    }var js_urls = [];\n",
       "  \n",
       "    var inline_js = [\n",
       "      function(Bokeh) {\n",
       "        Bokeh.$(function() {\n",
       "            var docs_json = {\"9b1f81f8-3f30-48a6-ba76-9554d5c03de2\": {\"version\": \"0.11.0\", \"roots\": {\"root_ids\": [\"beedf70b-01b9-4dc2-bb5e-5355c4449fd0\"], \"references\": [{\"attributes\": {\"line_color\": {\"value\": \"black\"}, \"line_alpha\": {\"value\": 1.0}, \"render_mode\": \"css\", \"bottom_units\": \"screen\", \"level\": \"overlay\", \"top_units\": \"screen\", \"fill_alpha\": {\"value\": 0.5}, \"plot\": null, \"left_units\": \"screen\", \"line_dash\": [4, 4], \"line_width\": {\"value\": 2}, \"right_units\": \"screen\", \"fill_color\": {\"value\": \"lightgrey\"}}, \"type\": \"BoxAnnotation\", \"id\": \"9ec8b65c-b9ad-4e43-aae0-73504658c67b\"}, {\"attributes\": {\"plot\": {\"subtype\": \"Figure\", \"type\": \"Plot\", \"id\": \"beedf70b-01b9-4dc2-bb5e-5355c4449fd0\"}, \"ticker\": {\"type\": \"BasicTicker\", \"id\": \"34083200-7406-441c-a6cb-0495fb0c4e23\"}, \"dimension\": 1}, \"type\": \"Grid\", \"id\": \"40e3359f-b524-4588-b432-1692f4ac0e64\"}, {\"attributes\": {\"plot\": {\"subtype\": \"Figure\", \"type\": \"Plot\", \"id\": \"beedf70b-01b9-4dc2-bb5e-5355c4449fd0\"}}, \"type\": \"ResetTool\", \"id\": \"15732a31-a62b-4a0b-9627-f091a83bf5d3\"}, {\"attributes\": {\"plot\": {\"subtype\": \"Figure\", \"type\": \"Plot\", \"id\": \"beedf70b-01b9-4dc2-bb5e-5355c4449fd0\"}}, \"type\": \"ResizeTool\", \"id\": \"6c4e711d-7c2f-4959-9f41-630021ceded6\"}, {\"attributes\": {\"callback\": null}, \"type\": \"DataRange1d\", \"id\": \"f4effc6b-08c7-493c-999a-171d8c263431\"}, {\"attributes\": {\"callback\": null, \"column_names\": [\"y0\", \"x\", \"y\", \"x\"], \"data\": {\"y\": [], \"x\": [], \"y0\": []}}, \"type\": \"ColumnDataSource\", \"id\": \"c7a4dfc5-fa56-473c-880b-6c104c57707e\"}, {\"attributes\": {}, \"type\": \"BasicTicker\", \"id\": \"e8691f43-27d2-4089-aa57-18292aeccbc3\"}, {\"attributes\": {\"callback\": null}, \"type\": \"DataRange1d\", \"id\": \"1dd27c31-292f-4ab5-92e2-180f4e20f610\"}, {\"attributes\": {\"plot\": {\"subtype\": \"Figure\", \"type\": \"Plot\", \"id\": \"beedf70b-01b9-4dc2-bb5e-5355c4449fd0\"}}, \"type\": \"PreviewSaveTool\", \"id\": \"36e18b66-f512-4ca0-b2e0-d2d7081d43d3\"}, {\"attributes\": {}, \"type\": \"ToolEvents\", \"id\": \"bfeab562-c77e-40f1-a0fb-a83c5ae25bd5\"}, {\"attributes\": {\"line_color\": {\"value\": \"#1f77b4\"}, \"line_alpha\": {\"value\": 0.1}, \"y\": {\"field\": \"y\"}, \"x\": {\"field\": \"x\"}}, \"type\": \"Line\", \"id\": \"bdb0e2f6-ce8e-4c4d-a409-491f768e537a\"}, {\"attributes\": {\"nonselection_glyph\": {\"type\": \"Line\", \"id\": \"a3d114ed-b428-4371-a186-254ed18be4b3\"}, \"data_source\": {\"type\": \"ColumnDataSource\", \"id\": \"c7a4dfc5-fa56-473c-880b-6c104c57707e\"}, \"selection_glyph\": null, \"hover_glyph\": null, \"glyph\": {\"type\": \"Line\", \"id\": \"e53f1afd-a85d-4ab4-a44f-7c978ce7e89b\"}}, \"type\": \"GlyphRenderer\", \"id\": \"cb7129e0-4313-4215-a103-f686c1c51365\"}, {\"attributes\": {\"x_range\": {\"type\": \"DataRange1d\", \"id\": \"f4effc6b-08c7-493c-999a-171d8c263431\"}, \"name\": \"cost\", \"title\": \"Cost\", \"y_range\": {\"type\": \"DataRange1d\", \"id\": \"1dd27c31-292f-4ab5-92e2-180f4e20f610\"}, \"renderers\": [{\"type\": \"LinearAxis\", \"id\": \"d5efde06-ee1c-4ae9-9310-53be4dc27a92\"}, {\"type\": \"Grid\", \"id\": \"e6836a84-9754-4b0a-8754-3c6e1290e1cd\"}, {\"type\": \"LinearAxis\", \"id\": \"8bac396e-7f1f-46de-bcf8-bdb6215ae55f\"}, {\"type\": \"Grid\", \"id\": \"40e3359f-b524-4588-b432-1692f4ac0e64\"}, {\"type\": \"BoxAnnotation\", \"id\": \"9ec8b65c-b9ad-4e43-aae0-73504658c67b\"}, {\"type\": \"GlyphRenderer\", \"id\": \"cb7129e0-4313-4215-a103-f686c1c51365\"}, {\"type\": \"GlyphRenderer\", \"id\": \"1231fb17-d759-4863-9e80-3bddc9763887\"}], \"plot_width\": 900, \"below\": [{\"type\": \"LinearAxis\", \"id\": \"d5efde06-ee1c-4ae9-9310-53be4dc27a92\"}], \"tool_events\": {\"type\": \"ToolEvents\", \"id\": \"bfeab562-c77e-40f1-a0fb-a83c5ae25bd5\"}, \"tools\": [{\"type\": \"PanTool\", \"id\": \"34d3b5b6-dc73-47e3-b754-78cf103de86f\"}, {\"type\": \"WheelZoomTool\", \"id\": \"9237389a-e605-40f9-8089-f26c746a3460\"}, {\"type\": \"BoxZoomTool\", \"id\": \"25281e6e-1ff4-4e97-a5b9-cb2cd0c7f8c1\"}, {\"type\": \"PreviewSaveTool\", \"id\": \"36e18b66-f512-4ca0-b2e0-d2d7081d43d3\"}, {\"type\": \"ResizeTool\", \"id\": \"6c4e711d-7c2f-4959-9f41-630021ceded6\"}, {\"type\": \"ResetTool\", \"id\": \"15732a31-a62b-4a0b-9627-f091a83bf5d3\"}, {\"type\": \"HelpTool\", \"id\": \"b7935de6-be82-4117-aa40-a8da480b9e5d\"}], \"left\": [{\"type\": \"LinearAxis\", \"id\": \"8bac396e-7f1f-46de-bcf8-bdb6215ae55f\"}]}, \"type\": \"Plot\", \"id\": \"beedf70b-01b9-4dc2-bb5e-5355c4449fd0\", \"subtype\": \"Figure\"}, {\"attributes\": {\"plot\": {\"subtype\": \"Figure\", \"type\": \"Plot\", \"id\": \"beedf70b-01b9-4dc2-bb5e-5355c4449fd0\"}, \"ticker\": {\"type\": \"BasicTicker\", \"id\": \"e8691f43-27d2-4089-aa57-18292aeccbc3\"}}, \"type\": \"Grid\", \"id\": \"e6836a84-9754-4b0a-8754-3c6e1290e1cd\"}, {\"attributes\": {}, \"type\": \"BasicTickFormatter\", \"id\": \"36a08bf3-57f3-456d-a7ea-207225037245\"}, {\"attributes\": {\"plot\": {\"subtype\": \"Figure\", \"type\": \"Plot\", \"id\": \"beedf70b-01b9-4dc2-bb5e-5355c4449fd0\"}, \"formatter\": {\"type\": \"BasicTickFormatter\", \"id\": \"36a08bf3-57f3-456d-a7ea-207225037245\"}, \"ticker\": {\"type\": \"BasicTicker\", \"id\": \"34083200-7406-441c-a6cb-0495fb0c4e23\"}}, \"type\": \"LinearAxis\", \"id\": \"8bac396e-7f1f-46de-bcf8-bdb6215ae55f\"}, {\"attributes\": {\"line_color\": {\"value\": \"#1f77b4\"}, \"line_alpha\": {\"value\": 0.1}, \"y\": {\"field\": \"y\"}, \"x\": {\"field\": \"x\"}}, \"type\": \"Line\", \"id\": \"a3d114ed-b428-4371-a186-254ed18be4b3\"}, {\"attributes\": {\"nonselection_glyph\": {\"type\": \"Line\", \"id\": \"bdb0e2f6-ce8e-4c4d-a409-491f768e537a\"}, \"data_source\": {\"type\": \"ColumnDataSource\", \"id\": \"8a2befd6-13f2-48f6-8bf8-dcd0de8a02c7\"}, \"selection_glyph\": null, \"hover_glyph\": null, \"glyph\": {\"type\": \"Line\", \"id\": \"37114b87-f1da-4fb7-bf1d-250110b926b3\"}}, \"type\": \"GlyphRenderer\", \"id\": \"1231fb17-d759-4863-9e80-3bddc9763887\"}, {\"attributes\": {}, \"type\": \"BasicTickFormatter\", \"id\": \"ae73465a-45d6-4034-a562-7cf6b427d222\"}, {\"attributes\": {\"line_color\": {\"value\": \"red\"}, \"x\": {\"field\": \"x\"}, \"y\": {\"field\": \"y\"}}, \"type\": \"Line\", \"id\": \"37114b87-f1da-4fb7-bf1d-250110b926b3\"}, {\"attributes\": {\"plot\": {\"subtype\": \"Figure\", \"type\": \"Plot\", \"id\": \"beedf70b-01b9-4dc2-bb5e-5355c4449fd0\"}, \"overlay\": {\"type\": \"BoxAnnotation\", \"id\": \"9ec8b65c-b9ad-4e43-aae0-73504658c67b\"}}, \"type\": \"BoxZoomTool\", \"id\": \"25281e6e-1ff4-4e97-a5b9-cb2cd0c7f8c1\"}, {\"attributes\": {\"plot\": {\"subtype\": \"Figure\", \"type\": \"Plot\", \"id\": \"beedf70b-01b9-4dc2-bb5e-5355c4449fd0\"}}, \"type\": \"PanTool\", \"id\": \"34d3b5b6-dc73-47e3-b754-78cf103de86f\"}, {\"attributes\": {}, \"type\": \"BasicTicker\", \"id\": \"34083200-7406-441c-a6cb-0495fb0c4e23\"}, {\"attributes\": {\"plot\": {\"subtype\": \"Figure\", \"type\": \"Plot\", \"id\": \"beedf70b-01b9-4dc2-bb5e-5355c4449fd0\"}, \"axis_label\": \"Epoch\", \"formatter\": {\"type\": \"BasicTickFormatter\", \"id\": \"ae73465a-45d6-4034-a562-7cf6b427d222\"}, \"ticker\": {\"type\": \"BasicTicker\", \"id\": \"e8691f43-27d2-4089-aa57-18292aeccbc3\"}}, \"type\": \"LinearAxis\", \"id\": \"d5efde06-ee1c-4ae9-9310-53be4dc27a92\"}, {\"attributes\": {\"plot\": {\"subtype\": \"Figure\", \"type\": \"Plot\", \"id\": \"beedf70b-01b9-4dc2-bb5e-5355c4449fd0\"}}, \"type\": \"WheelZoomTool\", \"id\": \"9237389a-e605-40f9-8089-f26c746a3460\"}, {\"attributes\": {\"callback\": null, \"column_names\": [\"y0\", \"x\", \"y\", \"x\"], \"data\": {\"y\": [], \"x\": [], \"y0\": []}}, \"type\": \"ColumnDataSource\", \"id\": \"8a2befd6-13f2-48f6-8bf8-dcd0de8a02c7\"}, {\"attributes\": {\"plot\": {\"subtype\": \"Figure\", \"type\": \"Plot\", \"id\": \"beedf70b-01b9-4dc2-bb5e-5355c4449fd0\"}}, \"type\": \"HelpTool\", \"id\": \"b7935de6-be82-4117-aa40-a8da480b9e5d\"}, {\"attributes\": {\"line_color\": {\"value\": \"#1f77b4\"}, \"x\": {\"field\": \"x\"}, \"y\": {\"field\": \"y\"}}, \"type\": \"Line\", \"id\": \"e53f1afd-a85d-4ab4-a44f-7c978ce7e89b\"}]}, \"title\": \"Bokeh Application\"}};\n",
       "            var render_items = [{\"notebook_comms_target\": \"49f616a0-b6cb-433f-925f-2862e7cbb999\", \"docid\": \"9b1f81f8-3f30-48a6-ba76-9554d5c03de2\", \"elementid\": \"d516ff97-08b7-4ed2-962e-88abfa10c5f1\", \"modelid\": \"beedf70b-01b9-4dc2-bb5e-5355c4449fd0\"}];\n",
       "            \n",
       "            Bokeh.embed.embed_items(docs_json, render_items);\n",
       "        });\n",
       "      },\n",
       "      function(Bokeh) {\n",
       "      }\n",
       "    ];\n",
       "  \n",
       "    function run_inline_js() {\n",
       "      for (var i = 0; i < inline_js.length; i++) {\n",
       "        inline_js[i](window.Bokeh);\n",
       "      }\n",
       "    }\n",
       "  \n",
       "    if (window._bokeh_is_loading === 0) {\n",
       "      console.log(\"Bokeh: BokehJS loaded, going straight to plotting\");\n",
       "      run_inline_js();\n",
       "    } else {\n",
       "      load_libs(js_urls, function() {\n",
       "        console.log(\"Bokeh: BokehJS plotting callback run at\", now());\n",
       "        run_inline_js();\n",
       "      });\n",
       "    }\n",
       "  }(this));\n",
       "</script>"
      ]
     },
     "metadata": {},
     "output_type": "display_data"
    },
    {
     "name": "stdout",
     "output_type": "stream",
     "text": [
      "Epoch 0   [Train |████████████████████|  469/469  batches, 0.13 cost, 1.68s]\n",
      "Epoch 1   [Train |████████████████████|  469/469  batches, 0.11 cost, 2.40s]\n",
      "Epoch 2   [Train |████████████████████|  469/469  batches, 0.09 cost, 2.24s]\n",
      "Epoch 3   [Train |████████████████████|  468/468  batches, 0.06 cost, 2.03s]\n",
      "Epoch 4   [Train |████████████████████|  468/468  batches, 0.05 cost, 1.68s]\n",
      "Epoch 5   [Train |████████████████████|  468/468  batches, 0.04 cost, 1.56s]\n",
      "Epoch 6   [Train |████████████████████|  468/468  batches, 0.04 cost, 1.53s]\n",
      "Epoch 7   [Train |████████████████████|  468/468  batches, 0.03 cost, 1.74s]\n",
      "Epoch 8   [Train |████████████████████|  468/468  batches, 0.03 cost, 2.02s]\n",
      "Epoch 9   [Train |████████████████████|  468/468  batches, 0.03 cost, 1.57s]\n"
     ]
    }
   ],
   "source": [
    "callbacks = Callbacks(mlp, eval_set=test_set)\n",
    "cv = CostVisCallback()\n",
    "callbacks.add_callback(cv)\n",
    "mlp.fit(train_set, optimizer=optimizer, num_epochs=10, cost=cost, callbacks=callbacks)"
   ]
  },
  {
   "cell_type": "code",
   "execution_count": null,
   "metadata": {
    "collapsed": true,
    "deletable": true,
    "editable": true
   },
   "outputs": [],
   "source": []
  }
 ],
 "metadata": {
  "kernelspec": {
   "display_name": "Python 2",
   "language": "python",
   "name": "python2"
  },
  "language_info": {
   "codemirror_mode": {
    "name": "ipython",
    "version": 2
   },
   "file_extension": ".py",
   "mimetype": "text/x-python",
   "name": "python",
   "nbconvert_exporter": "python",
   "pygments_lexer": "ipython2",
   "version": "2.7.6"
  }
 },
 "nbformat": 4,
 "nbformat_minor": 0
}
